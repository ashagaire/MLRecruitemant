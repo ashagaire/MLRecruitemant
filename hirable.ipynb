{
 "cells": [
  {
   "cell_type": "code",
   "execution_count": 1,
   "id": "ac8d3502-af24-498d-a20b-0740ed866c70",
   "metadata": {},
   "outputs": [],
   "source": [
    "# Importing Libraries\n",
    "\n",
    "import pandas as pd\n",
    "\n",
    "import numpy as np"
   ]
  },
  {
   "cell_type": "code",
   "execution_count": 2,
   "id": "aeabfa00-673e-4a5b-8f5f-69e2682f6887",
   "metadata": {},
   "outputs": [],
   "source": [
    "# Importing Dataset\n",
    "\n",
    "dataset = pd.read_csv('hirable.csv')"
   ]
  },
  {
   "cell_type": "code",
   "execution_count": 3,
   "id": "2af2be61-6657-4ded-92c8-7c28dcc0f2aa",
   "metadata": {},
   "outputs": [],
   "source": [
    "# Cleaning up dataset\n",
    "\n",
    "dataset = dataset.drop([\n",
    "\n",
    "\"sl_no\",\n",
    "\n",
    "\"ssc_p\",\n",
    "\n",
    "\"ssc_b\",\n",
    "\n",
    "\"hsc_p\",\n",
    "\n",
    "\"hsc_b\",\n",
    "\n",
    "\"hsc_s\",\n",
    "\n",
    "\"specialisation\",\n",
    "\n",
    "\"salary\",\n",
    "\n",
    "\"degree_t\"\n",
    "\n",
    "], axis=1)\n",
    "\n"
   ]
  },
  {
   "cell_type": "code",
   "execution_count": null,
   "id": "fb37d49d-7cbd-4a4d-a3e1-8c812c4f48a0",
   "metadata": {},
   "outputs": [],
   "source": []
  }
 ],
 "metadata": {
  "kernelspec": {
   "display_name": "Python 3 (ipykernel)",
   "language": "python",
   "name": "python3"
  },
  "language_info": {
   "codemirror_mode": {
    "name": "ipython",
    "version": 3
   },
   "file_extension": ".py",
   "mimetype": "text/x-python",
   "name": "python",
   "nbconvert_exporter": "python",
   "pygments_lexer": "ipython3",
   "version": "3.10.12"
  }
 },
 "nbformat": 4,
 "nbformat_minor": 5
}
